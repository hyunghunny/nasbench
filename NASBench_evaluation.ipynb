{
 "cells": [
  {
   "cell_type": "markdown",
   "metadata": {
    "colab_type": "text",
    "id": "SRxqMakh3PRY"
   },
   "source": [
    "Copyright 2019 Google LLC\n",
    "\n",
    "Licensed under the Apache License, Version 2.0 (the \"License\");\n",
    "you may not use this file except in compliance with the License.\n",
    "You may obtain a copy of the License at\n",
    "\n",
    "    https://www.apache.org/licenses/LICENSE-2.0\n",
    "\n",
    "Unless required by applicable law or agreed to in writing, software\n",
    "distributed under the License is distributed on an \"AS IS\" BASIS,\n",
    "WITHOUT WARRANTIES OR CONDITIONS OF ANY KIND, either express or implied.\n",
    "See the License for the specific language governing permissions and\n",
    "limitations under the License."
   ]
  },
  {
   "cell_type": "markdown",
   "metadata": {
    "colab_type": "text",
    "id": "47ieDn-jNLYd"
   },
   "source": [
    "# NASBench-101\n",
    "\n",
    "This colab accompanies [**NAS-Bench-101: Towards Reproducible Neural Architecture Search**](https://arxiv.org/abs/1902.09635) and the rest of the code at https://github.com/google-research/nasbench.\n",
    "\n",
    "In this colab, we demonstrate how to use the dataset for simple benchmarking and analysis. The publicly available and free hosted colab instances are sufficient to run this colab."
   ]
  },
  {
   "cell_type": "markdown",
   "metadata": {
    "colab_type": "text",
    "id": "lBNMsBUS3SAq"
   },
   "source": [
    "## Load NASBench library and dataset"
   ]
  },
  {
   "cell_type": "code",
   "execution_count": 2,
   "metadata": {
    "colab": {
     "base_uri": "https://localhost:8080/",
     "height": 1000
    },
    "colab_type": "code",
    "id": "vl1oLYux3FhJ",
    "outputId": "f2592ea9-2a85-43c3-a783-5d3ac3c2f88d"
   },
   "outputs": [],
   "source": [
    "# This code was written in TF 1.12 but should be supported all the way through\n",
    "# TF 1.15. Untested in TF 2.0+.\n",
    "#%tensorflow_version 1.x\n",
    "\n",
    "# Download the raw data (only 108 epoch data points, for full dataset,\n",
    "# uncomment the second line for nasbench_full.tfrecord).\n",
    "\n",
    "#!curl -O https://storage.googleapis.com/nasbench/nasbench_only108.tfrecord\n",
    "#!curl -O https://storage.googleapis.com/nasbench/nasbench_full.tfrecord\n",
    "\n",
    "# Clone and install the code and dependencies.\n",
    "\n",
    "#!git clone https://github.com/google-research/nasbench\n",
    "#!pip install ./nasbench\n",
    "import sys\n",
    "sys.path.append(\".\") # add root folder as a python path "
   ]
  },
  {
   "cell_type": "code",
   "execution_count": 3,
   "metadata": {
    "colab": {
     "base_uri": "https://localhost:8080/",
     "height": 374
    },
    "colab_type": "code",
    "id": "dOkRdOuavz27",
    "outputId": "6e3de527-90ab-4e7b-b57f-d4669a70a7ad"
   },
   "outputs": [
    {
     "name": "stdout",
     "output_type": "stream",
     "text": [
      "WARNING:tensorflow:From /data2/webofthink/github/nasbench/nasbench/lib/training_time.py:130: The name tf.train.SessionRunHook is deprecated. Please use tf.estimator.SessionRunHook instead.\n",
      "\n",
      "WARNING:tensorflow:From /data2/webofthink/github/nasbench/nasbench/lib/training_time.py:174: The name tf.train.CheckpointSaverListener is deprecated. Please use tf.estimator.CheckpointSaverListener instead.\n",
      "\n",
      "WARNING:tensorflow:From /data2/webofthink/github/nasbench/nasbench/lib/evaluate.py:30: The name tf.train.NanLossDuringTrainingError is deprecated. Please use tf.estimator.NanLossDuringTrainingError instead.\n",
      "\n",
      "Loading dataset from file... This may take a few minutes...\n",
      "WARNING:tensorflow:From /data2/webofthink/github/nasbench/nasbench/api.py:146: tf_record_iterator (from tensorflow.python.lib.io.tf_record) is deprecated and will be removed in a future version.\n",
      "Instructions for updating:\n",
      "Use eager execution and: \n",
      "`tf.data.TFRecordDataset(path)`\n",
      "Loaded dataset in 180 seconds\n"
     ]
    }
   ],
   "source": [
    "\n",
    "# Initialize the NASBench object which parses the raw data into memory (this\n",
    "# should only be run once as it takes up to a few minutes).\n",
    "from nasbench import api\n",
    "\n",
    "# Use nasbench_full.tfrecord for full dataset (run download command above).\n",
    "nasbench = api.NASBench('/data2/webofthink/dataset/nasbench_full.tfrecord')"
   ]
  },
  {
   "cell_type": "code",
   "execution_count": 66,
   "metadata": {
    "colab": {},
    "colab_type": "code",
    "id": "oFhFRmck7NzM"
   },
   "outputs": [],
   "source": [
    "# Standard imports\n",
    "import copy\n",
    "import numpy as np\n",
    "import matplotlib.pyplot as plt\n",
    "import random\n",
    "\n",
    "# Useful constants\n",
    "INPUT = 'input'\n",
    "OUTPUT = 'output'\n",
    "CONV3X3 = 'conv3x3-bn-relu'\n",
    "CONV1X1 = 'conv1x1-bn-relu'\n",
    "MAXPOOL3X3 = 'maxpool3x3'\n",
    "\n",
    "ALLOWED_OPS = [CONV3X3, CONV1X1, MAXPOOL3X3] # # all available operations\n",
    "ALLOWED_EDGES = [0, 1]   # Binary adjacency matrix\n",
    "TRAIN_EPOCHS = [4, 12, 36, 108]\n",
    "MAX_EDGES = 9\n",
    "\n",
    "MIN_VERTICES = 3\n",
    "MAX_VERTICES = 7\n",
    "\n",
    "# immutable variables\n",
    "NUM_VERTICES = 7 # 3 up to 7 \n",
    "EDGE_SPOTS = NUM_VERTICES * (NUM_VERTICES - 1) / 2   # Upper triangular matrix - max: 21\n",
    "OP_SPOTS = NUM_VERTICES - 2   # Input/output vertices are fixed\n"
   ]
  },
  {
   "cell_type": "markdown",
   "metadata": {
    "colab_type": "text",
    "id": "llC2AebQOWq9"
   },
   "source": [
    "## Basic usage"
   ]
  },
  {
   "cell_type": "code",
   "execution_count": 11,
   "metadata": {
    "colab": {},
    "colab_type": "code",
    "id": "kZvm6i0VGP_M"
   },
   "outputs": [
    {
     "name": "stdout",
     "output_type": "stream",
     "text": [
      "module_adjacency: [[0 1 1 1 1 0 0]\n",
      " [0 0 0 0 0 0 1]\n",
      " [0 0 0 0 0 0 1]\n",
      " [0 0 0 0 0 0 1]\n",
      " [0 0 0 0 0 1 0]\n",
      " [0 0 0 0 0 0 1]\n",
      " [0 0 0 0 0 0 0]]\n",
      "module_operations: ['input', 'conv3x3-bn-relu', 'conv1x1-bn-relu', 'maxpool3x3', 'conv3x3-bn-relu', 'conv3x3-bn-relu', 'output']\n",
      "trainable_parameters: 2694282\n",
      "training_time: 1155.85302734375\n",
      "train_accuracy: 1.0\n",
      "validation_accuracy: 0.9376001358032227\n",
      "test_accuracy: 0.9311898946762085\n"
     ]
    }
   ],
   "source": [
    "# Query an Inception-like cell from the dataset.\n",
    "cell = api.ModelSpec(\n",
    "  matrix=[[0, 1, 1, 1, 0, 1, 0],    # input layer\n",
    "          [0, 0, 0, 0, 0, 0, 1],    # 1x1 conv\n",
    "          [0, 0, 0, 0, 0, 0, 1],    # 3x3 conv\n",
    "          [0, 0, 0, 0, 1, 0, 0],    # 5x5 conv (replaced by two 3x3's)\n",
    "          [0, 0, 0, 0, 0, 0, 1],    # 5x5 conv (replaced by two 3x3's)\n",
    "          [0, 0, 0, 0, 0, 0, 1],    # 3x3 max-pool\n",
    "          [0, 0, 0, 0, 0, 0, 0]],   # output layer\n",
    "  # Operations at the vertices of the module, matches order of matrix.\n",
    "  ops=[INPUT, CONV1X1, CONV3X3, CONV3X3, CONV3X3, MAXPOOL3X3, OUTPUT])\n",
    "\n",
    "# Querying multiple times may yield different results. Each cell is evaluated 3\n",
    "# times at each epoch budget and querying will sample one randomly.\n",
    "data = nasbench.query(cell)\n",
    "for k, v in data.items():\n",
    "  print('%s: %s' % (k, str(v)))"
   ]
  },
  {
   "cell_type": "code",
   "execution_count": 15,
   "metadata": {},
   "outputs": [
    {
     "name": "stdout",
     "output_type": "stream",
     "text": [
      "module_adjacency: [[0 1 0 0 1 0 0]\n",
      " [0 0 1 0 0 1 0]\n",
      " [0 0 0 1 0 0 1]\n",
      " [0 0 0 0 1 0 0]\n",
      " [0 0 0 0 0 1 0]\n",
      " [0 0 0 0 0 0 1]\n",
      " [0 0 0 0 0 0 0]]\n",
      "module_operations: ['input', 'conv1x1-bn-relu', 'conv3x3-bn-relu', 'conv3x3-bn-relu', 'conv3x3-bn-relu', 'maxpool3x3', 'output']\n",
      "trainable_parameters: 8118666\n",
      "training_time: 1627.45703125\n",
      "train_accuracy: 1.0\n",
      "validation_accuracy: 0.9173678159713745\n",
      "test_accuracy: 0.9076522588729858\n"
     ]
    }
   ],
   "source": [
    "# Query max connected sample case \n",
    "cell = api.ModelSpec(\n",
    "  matrix=[[0, 1, 0, 0, 1, 0, 0],    # input layer\n",
    "          [0, 0, 1, 0, 0, 1, 0],    # 1x1 conv\n",
    "          [0, 0, 0, 1, 0, 0, 1],    # 3x3 conv\n",
    "          [0, 0, 0, 0, 1, 0, 0],    # 5x5 conv (replaced by two 3x3's)\n",
    "          [0, 0, 0, 0, 0, 1, 0],    # 5x5 conv (replaced by two 3x3's)\n",
    "          [0, 0, 0, 0, 0, 0, 1],    # 3x3 max-pool\n",
    "          [0, 0, 0, 0, 0, 0, 0]],   # output layer\n",
    "  # Operations at the vertices of the module, matches order of matrix.\n",
    "  ops=[INPUT, CONV1X1, CONV3X3, CONV3X3, CONV3X3, MAXPOOL3X3, OUTPUT])\n",
    "\n",
    "# Querying multiple times may yield different results. Each cell is evaluated 3\n",
    "# times at each epoch budget and querying will sample one randomly.\n",
    "data = nasbench.query(cell)\n",
    "for k, v in data.items():\n",
    "  print('%s: %s' % (k, str(v)))"
   ]
  },
  {
   "cell_type": "code",
   "execution_count": 40,
   "metadata": {},
   "outputs": [
    {
     "name": "stdout",
     "output_type": "stream",
     "text": [
      "Test accuracy at 4 epochs: 0.1408253163099289\n",
      "Test accuracy at 12 epochs: 0.21023638546466827\n",
      "Test accuracy at 36 epochs: 0.8849158883094788\n",
      "Test accuracy at 108 epochs: 0.9203726053237915\n"
     ]
    }
   ],
   "source": [
    "# Query simple sample case 2\n",
    "cell = api.ModelSpec(\n",
    "  matrix=[[0, 1, 1, 1, 1],    # input layer\n",
    "          [0, 0, 1, 0, 0],    # 1x1 conv\n",
    "          [0, 0, 0, 1, 0],    # 3x3 conv\n",
    "          [0, 0, 0, 0, 1],    # 3x3 max-pool\n",
    "          [0, 0, 0, 0, 0]],   # output layer\n",
    "  # Operations at the vertices of the module, matches order of matrix.\n",
    "  ops=[INPUT, CONV1X1, CONV3X3, MAXPOOL3X3, OUTPUT])\n",
    "\n",
    "# Querying multiple times may yield different results. Each cell is evaluated 3\n",
    "# times at each epoch budget and querying will sample one randomly.\n",
    "for epoch in [4, 12, 36, 108]:\n",
    "    data = nasbench.query(cell, epochs=epoch)\n",
    "    print(\"Test accuracy at {} epochs: {}\".format(epoch, data['test_accuracy']))"
   ]
  },
  {
   "cell_type": "code",
   "execution_count": 80,
   "metadata": {},
   "outputs": [
    {
     "name": "stdout",
     "output_type": "stream",
     "text": [
      "when the node is consisted of 3 vertices, \n",
      "- edge spots: 3.0\n",
      "- operation spots: 1\n",
      "when the node is consisted of 4 vertices, \n",
      "- edge spots: 6.0\n",
      "- operation spots: 2\n",
      "when the node is consisted of 5 vertices, \n",
      "- edge spots: 10.0\n",
      "- operation spots: 3\n",
      "when the node is consisted of 6 vertices, \n",
      "- edge spots: 15.0\n",
      "- operation spots: 4\n",
      "when the node is consisted of 7 vertices, \n",
      "- edge spots: 21.0\n",
      "- operation spots: 5\n"
     ]
    }
   ],
   "source": [
    "for n_v in range(MIN_VERTICES, MAX_VERTICES + 1):\n",
    "    edge_spots = n_v * (n_v - 1) / 2   # Upper triangular matrix - max: 21\n",
    "    op_spots = n_v - 2   # Input/output vertices are fixed\n",
    "    print(\"when the node is consisted of {} vertices, \".format(n_v))\n",
    "    print(\"- edge spots: {}\".format(edge_spots))\n",
    "    print(\"- operations: {}\".format(op_spots))"
   ]
  },
  {
   "cell_type": "code",
   "execution_count": 188,
   "metadata": {},
   "outputs": [
    {
     "name": "stdout",
     "output_type": "stream",
     "text": [
      "node #0's' link: vaild range 0 ~ 63\n",
      "node #1's' link: vaild range 0 ~ 31\n",
      "node #2's' link: vaild range 0 ~ 15\n",
      "node #3's' link: vaild range 0 ~ 7\n",
      "node #4's' link: vaild range 0 ~ 3\n",
      "node #5's' link: vaild range 0 ~ 1\n",
      "node #6's' link: vaild range 0 ~ 0\n",
      "fully connected:\n",
      "[[0 1 1 1 1 1 1]\n",
      " [0 0 1 1 1 1 1]\n",
      " [0 0 0 1 1 1 1]\n",
      " [0 0 0 0 1 1 1]\n",
      " [0 0 0 0 0 1 1]\n",
      " [0 0 0 0 0 0 1]\n",
      " [0 0 0 0 0 0 0]]\n"
     ]
    }
   ],
   "source": [
    "def bin_array(num, m):\n",
    "    \"\"\"Convert a positive integer num into an m-bit bit vector\"\"\"\n",
    "    return np.array(list(np.binary_repr(num).zfill(m))).astype(np.int8).tolist()\n",
    "\n",
    "\n",
    "m = 7 # number of nodes\n",
    "matrix = []\n",
    "for n in range(m):\n",
    "    max_v = 2**(m-n-1) - 1\n",
    "    vec = bin_array(max_v, m) # max value 2**(m-n) - 1\n",
    "    print(\"node #{}'s' link: vaild range 0 ~ {}\".format(n, max_v))\n",
    "    matrix.append(vec)\n",
    "    \n",
    "print(\"fully connected:\")\n",
    "print(np.array(matrix))"
   ]
  },
  {
   "cell_type": "code",
   "execution_count": 203,
   "metadata": {},
   "outputs": [],
   "source": [
    "def build_n_train(ops, links=None, train_epochs=[108]):\n",
    "    \n",
    "    MAX_LINKS = [63, 31, 15, 7, 3, 1, 0]\n",
    "    \n",
    "    n_iv = len(ops) # number of inner vertices (input, output excluded)\n",
    "    ops.insert(0, INPUT)\n",
    "    ops.append(OUTPUT)\n",
    "    n_v = n_iv + 2\n",
    "    edge_spots = int(n_v * (n_v - 1) / 2)\n",
    "    print(\"node operation list: \")\n",
    "    print(\"{}\".format(ops))\n",
    "    \n",
    "\n",
    "    if links:\n",
    "        # validate links value\n",
    "        for i in range(len(links)):\n",
    "            if links[i] > MAX_LINKS[i]:\n",
    "                raise ValueError(\"Invalid link value at {}: {} > {}\".format(i, links[i], MAX_LINKS[i]))\n",
    "                \n",
    "        matrix = []\n",
    "        for i in range(n_v):\n",
    "            vec = bin_array(links[i], n_v)\n",
    "            matrix.append(vec)\n",
    "        matrix = np.array(matrix)\n",
    "        pass\n",
    "    else:\n",
    "        matrix = np.random.choice(ALLOWED_EDGES, size=(n_v, n_v))\n",
    "        matrix = np.triu(matrix, 1)\n",
    "    \n",
    "    print(\"Adj. matrix:\")\n",
    "    print(matrix)\n",
    "\n",
    "    # Query very simple sample case\n",
    "    cell = api.ModelSpec(\n",
    "      matrix=matrix,   # output layer\n",
    "      # Operations at the vertices of the module, matches order of matrix.\n",
    "      ops=ops)\n",
    "\n",
    "    if nasbench.is_valid(cell):\n",
    "        # Querying multiple times may yield different results. Each cell is evaluated 3\n",
    "        # times at each epoch budget and querying will sample one randomly.\n",
    "        for epoch in train_epochs:\n",
    "            data = nasbench.query(cell, epochs=epoch)\n",
    "            print(\"Training {} epochs - time: {:.0f}s, test accuracy: {:.4f}\".format(epoch, data['training_time'], data['test_accuracy']))\n",
    "    else:\n",
    "        raise ValueError(\"Invalid spec!\")"
   ]
  },
  {
   "cell_type": "code",
   "execution_count": 212,
   "metadata": {},
   "outputs": [
    {
     "name": "stdout",
     "output_type": "stream",
     "text": [
      "node operation list: \n",
      "['input', 'conv3x3-bn-relu', 'maxpool3x3', 'conv1x1-bn-relu', 'conv1x1-bn-relu', 'maxpool3x3', 'output']\n",
      "Adj. matrix:\n",
      "[[0 0 1 0 0 1 1]\n",
      " [0 0 1 0 0 1 0]\n",
      " [0 0 0 0 1 0 1]\n",
      " [0 0 0 0 1 0 1]\n",
      " [0 0 0 0 0 1 1]\n",
      " [0 0 0 0 0 0 1]\n",
      " [0 0 0 0 0 0 0]]\n",
      "Training 4 epochs - time: 73s, test accuracy: 0.1385\n",
      "Training 12 epochs - time: 186s, test accuracy: 0.3636\n",
      "Training 36 epochs - time: 546s, test accuracy: 0.8348\n",
      "Training 108 epochs - time: 1621s, test accuracy: 0.8899\n"
     ]
    }
   ],
   "source": [
    "# hyperparameter selection\n",
    "in_ops = [ALLOWED_OPS[0], ALLOWED_OPS[2], ALLOWED_OPS[1], ALLOWED_OPS[1], ALLOWED_OPS[2]] # without INPUT, OUTPUT node. 3**n cases available\n",
    "MAX_LINKS = [63, 31, 15, 7, 3, 1, 0]\n",
    "links = [19, 18, 5, 5, 3, 1, 0]\n",
    "\n",
    "# run configuration\n",
    "train_epochs = [4, 12, 36, 108] #[108] \n",
    "\n",
    "build_n_train(in_ops, links, train_epochs)"
   ]
  },
  {
   "cell_type": "code",
   "execution_count": 57,
   "metadata": {},
   "outputs": [
    {
     "name": "stdout",
     "output_type": "stream",
     "text": [
      "Test accuracy at 4 epochs: 0.4826722741127014\n",
      "Test accuracy at 12 epochs: 0.6974158883094788\n",
      "Test accuracy at 36 epochs: 0.8046875\n",
      "Test accuracy at 108 epochs: 0.8410456776618958\n"
     ]
    }
   ],
   "source": [
    "# Query very simple sample case\n",
    "cell = api.ModelSpec(\n",
    "  matrix=[[0, 1],    # input layer\n",
    "          [0, 0]],   # output layer\n",
    "  # Operations at the vertices of the module, matches order of matrix.\n",
    "  ops=[INPUT, OUTPUT])\n",
    "\n",
    "# Querying multiple times may yield different results. Each cell is evaluated 3\n",
    "# times at each epoch budget and querying will sample one randomly.\n",
    "for epoch in [4, 12, 36, 108]:\n",
    "    data = nasbench.query(cell, epochs=epoch)\n",
    "    print(\"Test accuracy at {} epochs: {}\".format(epoch, data['test_accuracy']))"
   ]
  },
  {
   "cell_type": "code",
   "execution_count": 49,
   "metadata": {},
   "outputs": [
    {
     "data": {
      "text/plain": [
       "array([[1, 0, 0, 0, 0, 0, 0],\n",
       "       [0, 0, 0, 0, 0, 0, 0],\n",
       "       [0, 0, 0, 0, 0, 0, 0],\n",
       "       [0, 0, 0, 0, 0, 0, 0],\n",
       "       [0, 0, 0, 0, 0, 0, 0],\n",
       "       [0, 0, 0, 0, 0, 0, 0],\n",
       "       [0, 0, 0, 0, 0, 0, 0]])"
      ]
     },
     "execution_count": 49,
     "metadata": {},
     "output_type": "execute_result"
    }
   ],
   "source": [
    "matrix = np.random.choice([0], size=(NUM_VERTICES, NUM_VERTICES))\n",
    "matrix[0][1] = 1\n",
    "matrix\n",
    "#matrix = np.triu(matrix, 1)"
   ]
  },
  {
   "cell_type": "markdown",
   "metadata": {
    "colab_type": "text",
    "id": "uXnVdG32Oe19"
   },
   "source": [
    "## Example search experiment (random vs. evolution)"
   ]
  },
  {
   "cell_type": "code",
   "execution_count": 28,
   "metadata": {
    "colab": {},
    "colab_type": "code",
    "id": "Xtl_Aqr7OeOF"
   },
   "outputs": [],
   "source": [
    "def random_spec():\n",
    "  \"\"\"Returns a random valid spec.\"\"\"\n",
    "  while True:\n",
    "    matrix = np.random.choice(ALLOWED_EDGES, size=(NUM_VERTICES, NUM_VERTICES))\n",
    "    matrix = np.triu(matrix, 1)\n",
    "    ops = np.random.choice(ALLOWED_OPS, size=(NUM_VERTICES)).tolist()\n",
    "    ops[0] = INPUT\n",
    "    ops[-1] = OUTPUT\n",
    "    spec = api.ModelSpec(matrix=matrix, ops=ops)\n",
    "    if nasbench.is_valid(spec):\n",
    "      return spec\n",
    "\n",
    "def mutate_spec(old_spec, mutation_rate=1.0):\n",
    "  \"\"\"Computes a valid mutated spec from the old_spec.\"\"\"\n",
    "  while True:\n",
    "    new_matrix = copy.deepcopy(old_spec.original_matrix)\n",
    "    new_ops = copy.deepcopy(old_spec.original_ops)\n",
    "\n",
    "    # In expectation, V edges flipped (note that most end up being pruned).\n",
    "    edge_mutation_prob = mutation_rate / NUM_VERTICES\n",
    "    for src in range(0, NUM_VERTICES - 1):\n",
    "      for dst in range(src + 1, NUM_VERTICES):\n",
    "        if random.random() < edge_mutation_prob:\n",
    "          new_matrix[src, dst] = 1 - new_matrix[src, dst]\n",
    "          \n",
    "    # In expectation, one op is resampled.\n",
    "    op_mutation_prob = mutation_rate / OP_SPOTS\n",
    "    for ind in range(1, NUM_VERTICES - 1):\n",
    "      if random.random() < op_mutation_prob:\n",
    "        available = [o for o in nasbench.config['available_ops'] if o != new_ops[ind]]\n",
    "        new_ops[ind] = random.choice(available)\n",
    "        \n",
    "    new_spec = api.ModelSpec(new_matrix, new_ops)\n",
    "    if nasbench.is_valid(new_spec):\n",
    "      return new_spec\n",
    "\n",
    "def random_combination(iterable, sample_size):\n",
    "  \"\"\"Random selection from itertools.combinations(iterable, r).\"\"\"\n",
    "  pool = tuple(iterable)\n",
    "  n = len(pool)\n",
    "  indices = sorted(random.sample(range(n), sample_size))\n",
    "  return tuple(pool[i] for i in indices)\n",
    "\n",
    "def run_random_search(max_time_budget=5e6):\n",
    "  \"\"\"Run a single roll-out of random search to a fixed time budget.\"\"\"\n",
    "  nasbench.reset_budget_counters()\n",
    "  times, best_valids, best_tests = [0.0], [0.0], [0.0]\n",
    "  while True:\n",
    "    spec = random_spec()\n",
    "    data = nasbench.query(spec)\n",
    "\n",
    "    # It's important to select models only based on validation accuracy, test\n",
    "    # accuracy is used only for comparing different search trajectories.\n",
    "    if data['validation_accuracy'] > best_valids[-1]:\n",
    "      best_valids.append(data['validation_accuracy'])\n",
    "      best_tests.append(data['test_accuracy'])\n",
    "    else:\n",
    "      best_valids.append(best_valids[-1])\n",
    "      best_tests.append(best_tests[-1])\n",
    "\n",
    "    time_spent, _ = nasbench.get_budget_counters()\n",
    "    times.append(time_spent)\n",
    "    if time_spent > max_time_budget:\n",
    "      # Break the first time we exceed the budget.\n",
    "      break\n",
    "\n",
    "  return times, best_valids, best_tests\n",
    "\n",
    "def run_evolution_search(max_time_budget=5e6,\n",
    "                         population_size=50,\n",
    "                         tournament_size=10,\n",
    "                         mutation_rate=1.0):\n",
    "  \"\"\"Run a single roll-out of regularized evolution to a fixed time budget.\"\"\"\n",
    "  nasbench.reset_budget_counters()\n",
    "  times, best_valids, best_tests = [0.0], [0.0], [0.0]\n",
    "  population = []   # (validation, spec) tuples\n",
    "\n",
    "  # For the first population_size individuals, seed the population with randomly\n",
    "  # generated cells.\n",
    "  for _ in range(population_size):\n",
    "    spec = random_spec()\n",
    "    data = nasbench.query(spec)\n",
    "    time_spent, _ = nasbench.get_budget_counters()\n",
    "    times.append(time_spent)\n",
    "    population.append((data['validation_accuracy'], spec))\n",
    "\n",
    "    if data['validation_accuracy'] > best_valids[-1]:\n",
    "      best_valids.append(data['validation_accuracy'])\n",
    "      best_tests.append(data['test_accuracy'])\n",
    "    else:\n",
    "      best_valids.append(best_valids[-1])\n",
    "      best_tests.append(best_tests[-1])\n",
    "\n",
    "    if time_spent > max_time_budget:\n",
    "      break\n",
    "\n",
    "  # After the population is seeded, proceed with evolving the population.\n",
    "  while True:\n",
    "    sample = random_combination(population, tournament_size)\n",
    "    best_spec = sorted(sample, key=lambda i:i[0])[-1][1]\n",
    "    new_spec = mutate_spec(best_spec, mutation_rate)\n",
    "\n",
    "    data = nasbench.query(new_spec)\n",
    "    time_spent, _ = nasbench.get_budget_counters()\n",
    "    times.append(time_spent)\n",
    "\n",
    "    # In regularized evolution, we kill the oldest individual in the population.\n",
    "    population.append((data['validation_accuracy'], new_spec))\n",
    "    population.pop(0)\n",
    "\n",
    "    if data['validation_accuracy'] > best_valids[-1]:\n",
    "      best_valids.append(data['validation_accuracy'])\n",
    "      best_tests.append(data['test_accuracy'])\n",
    "    else:\n",
    "      best_valids.append(best_valids[-1])\n",
    "      best_tests.append(best_tests[-1])\n",
    "\n",
    "    if time_spent > max_time_budget:\n",
    "      break\n",
    "\n",
    "  return times, best_valids, best_tests\n",
    "  "
   ]
  },
  {
   "cell_type": "code",
   "execution_count": 29,
   "metadata": {
    "colab": {},
    "colab_type": "code",
    "id": "HMfF2zXxpQNA"
   },
   "outputs": [
    {
     "name": "stdout",
     "output_type": "stream",
     "text": [
      "Running repeat 1\n",
      "Running repeat 2\n",
      "Running repeat 3\n",
      "Running repeat 4\n",
      "Running repeat 5\n",
      "Running repeat 6\n",
      "Running repeat 7\n",
      "Running repeat 8\n",
      "Running repeat 9\n",
      "Running repeat 10\n"
     ]
    }
   ],
   "source": [
    "# Run random search and evolution search 10 times each. This should take a few\n",
    "# minutes to run. Note that each run would have taken days of compute to\n",
    "# actually train and evaluate if the dataset were not precomputed.\n",
    "random_data = []\n",
    "evolution_data = []\n",
    "for repeat in range(10):\n",
    "  print('Running repeat %d' % (repeat + 1))\n",
    "  times, best_valid, best_test = run_random_search()\n",
    "  random_data.append((times, best_valid, best_test))\n",
    "\n",
    "  times, best_valid, best_test = run_evolution_search()\n",
    "  evolution_data.append((times, best_valid, best_test))"
   ]
  },
  {
   "cell_type": "code",
   "execution_count": 30,
   "metadata": {
    "colab": {},
    "colab_type": "code",
    "id": "2d-yRmuhkz35"
   },
   "outputs": [
    {
     "data": {
      "text/plain": [
       "Text(0.5, 1.0, 'Evolution search trajectories (red=validation, blue=test)')"
      ]
     },
     "execution_count": 30,
     "metadata": {},
     "output_type": "execute_result"
    },
    {
     "data": {
      "image/png": "[encoded data removed]",
      "text/plain": [
       "<Figure size 1440x360 with 2 Axes>"
      ]
     },
     "metadata": {
      "needs_background": "light"
     },
     "output_type": "display_data"
    }
   ],
   "source": [
    "plt.figure(figsize=(20, 5))\n",
    "\n",
    "plt.subplot(1, 3, 1)\n",
    "for times, best_valid, best_test in random_data:\n",
    "  plt.plot(times, best_valid, label='valid', color='red', alpha=0.5)\n",
    "  plt.plot(times, best_test, label='test', color='blue', alpha=0.5)\n",
    "\n",
    "plt.ylabel('accuracy')\n",
    "plt.xlabel('time spent (seconds)')\n",
    "plt.ylim(0.92, 0.96)\n",
    "plt.grid()\n",
    "plt.title('Random search trajectories (red=validation, blue=test)')\n",
    "\n",
    "\n",
    "plt.subplot(1, 3, 2)\n",
    "for times, best_valid, best_test in evolution_data:\n",
    "  plt.plot(times, best_valid, label='valid', color='red', alpha=0.5)\n",
    "  plt.plot(times, best_test, label='test', color='blue', alpha=0.5)\n",
    "\n",
    "plt.ylabel('accuracy')\n",
    "plt.xlabel('time spent (seconds)')\n",
    "plt.ylim(0.92, 0.96)\n",
    "plt.grid()\n",
    "plt.title('Evolution search trajectories (red=validation, blue=test)')"
   ]
  },
  {
   "cell_type": "code",
   "execution_count": 0,
   "metadata": {
    "colab": {},
    "colab_type": "code",
    "id": "F9lB_qL2oz9M"
   },
   "outputs": [],
   "source": [
    "# Compare the mean test accuracy along with error bars.\n",
    "def plot_data(data, color, label, gran=10000, max_budget=5000000):\n",
    "  \"\"\"Computes the mean and IQR fixed time steps.\"\"\"\n",
    "  xs = range(0, max_budget+1, gran)\n",
    "  mean = [0.0]\n",
    "  per25 = [0.0]\n",
    "  per75 = [0.0]\n",
    "  \n",
    "  repeats = len(data)\n",
    "  pointers = [1 for _ in range(repeats)]\n",
    "  \n",
    "  cur = gran\n",
    "  while cur < max_budget+1:\n",
    "    all_vals = []\n",
    "    for repeat in range(repeats):\n",
    "      while (pointers[repeat] < len(data[repeat][0]) and \n",
    "             data[repeat][0][pointers[repeat]] < cur):\n",
    "        pointers[repeat] += 1\n",
    "      prev_time = data[repeat][0][pointers[repeat]-1]\n",
    "      prev_test = data[repeat][2][pointers[repeat]-1]\n",
    "      next_time = data[repeat][0][pointers[repeat]]\n",
    "      next_test = data[repeat][2][pointers[repeat]]\n",
    "      assert prev_time < cur and next_time >= cur\n",
    "\n",
    "      # Linearly interpolate the test between the two surrounding points\n",
    "      cur_val = ((cur - prev_time) / (next_time - prev_time)) * (next_test - prev_test) + prev_test\n",
    "      \n",
    "      all_vals.append(cur_val)\n",
    "      \n",
    "    all_vals = sorted(all_vals)\n",
    "    mean.append(sum(all_vals) / float(len(all_vals)))\n",
    "    per25.append(all_vals[int(0.25 * repeats)])\n",
    "    per75.append(all_vals[int(0.75 * repeats)])\n",
    "      \n",
    "    cur += gran\n",
    "    \n",
    "  plt.plot(xs, mean, color=color, label=label, linewidth=2)\n",
    "  plt.fill_between(xs, per25, per75, alpha=0.1, linewidth=0, facecolor=color)\n",
    "\n",
    "plot_data(random_data, 'red', 'random')\n",
    "plot_data(evolution_data, 'blue', 'evolution')\n",
    "plt.legend(loc='lower right')\n",
    "plt.ylim(0.92, 0.95)\n",
    "plt.xlabel('total training time spent (seconds)')\n",
    "plt.ylabel('accuracy')\n",
    "plt.grid()"
   ]
  },
  {
   "cell_type": "markdown",
   "metadata": {
    "colab_type": "text",
    "id": "DPnRtp0zXUDh"
   },
   "source": [
    "## More information\n",
    "\n",
    "For more information on using the dataset, see the API documentation at https://github.com/google-research/nasbench/blob/master/nasbench/api.py.\n"
   ]
  }
 ],
 "metadata": {
  "colab": {
   "collapsed_sections": [],
   "name": "NASBench_evaluation.ipynb",
   "provenance": [],
   "toc_visible": true
  },
  "kernelspec": {
   "display_name": "Python 3",
   "language": "python",
   "name": "python3"
  },
  "language_info": {
   "codemirror_mode": {
    "name": "ipython",
    "version": 3
   },
   "file_extension": ".py",
   "mimetype": "text/x-python",
   "name": "python",
   "nbconvert_exporter": "python",
   "pygments_lexer": "ipython3",
   "version": "3.6.10"
  }
 },
 "nbformat": 4,
 "nbformat_minor": 1
}
